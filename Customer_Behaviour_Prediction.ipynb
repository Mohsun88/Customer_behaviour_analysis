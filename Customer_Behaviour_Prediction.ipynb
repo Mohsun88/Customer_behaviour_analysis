{
 "cells": [
  {
   "cell_type": "markdown",
   "metadata": {},
   "source": [
    
    "\n",
    "- #### Predict the store of the next visit in the context of each card\n",
    "\n"
   ]
  },
  {
   "cell_type": "markdown",
   "metadata": {},
   "source": [
    "## Data exploration, manipulation and feature engineering"
   ]
  },
  {
   "cell_type": "code",
   "execution_count": 5,
   "metadata": {},
   "outputs": [],
   "source": [
    "#importing necessary packages\n",
    "import pandas as pd\n",
    "import numpy as np\n",
    "import matplotlib.pyplot as plt\n",
    "import seaborn as sb\n",
    "%matplotlib inline"
   ]
  },
  {
   "cell_type": "code",
   "execution_count": 6,
   "metadata": {},
   "outputs": [
    {
     "data": {
      "text/plain": [
       "['1000000',\n",
       " '82148',\n",
       " '205045',\n",
       " '454604',\n",
       " '495519',\n",
       " '501981',\n",
       " '626571',\n",
       " '864963',\n",
       " '1057633',\n",
       " '1125507']"
      ]
     },
     "execution_count": 6,
     "metadata": {},
     "output_type": "execute_result"
    }
   ],
   "source": [
    "#loading the data\n",
    "xcell = pd.ExcelFile('Cards.xlsx')\n",
    "\n",
    "sheet_names=xcell.sheet_names\n",
    "sheet_names"
   ]
  },
  {
   "cell_type": "code",
   "execution_count": 7,
   "metadata": {},
   "outputs": [
    {
     "data": {
      "text/html": [
       "<div>\n",
       "<style scoped>\n",
       "    .dataframe tbody tr th:only-of-type {\n",
       "        vertical-align: middle;\n",
       "    }\n",
       "\n",
       "    .dataframe tbody tr th {\n",
       "        vertical-align: top;\n",
       "    }\n",
       "\n",
       "    .dataframe thead th {\n",
       "        text-align: right;\n",
       "    }\n",
       "</style>\n",
       "<table border=\"1\" class=\"dataframe\">\n",
       "  <thead>\n",
       "    <tr style=\"text-align: right;\">\n",
       "      <th></th>\n",
       "      <th>card number</th>\n",
       "      <th>receipt date</th>\n",
       "      <th>store.pos</th>\n",
       "      <th>amount</th>\n",
       "      <th>number of items</th>\n",
       "    </tr>\n",
       "  </thead>\n",
       "  <tbody>\n",
       "    <tr>\n",
       "      <th>0</th>\n",
       "      <td>1000000</td>\n",
       "      <td>2017-11-14 11:33:51</td>\n",
       "      <td>56.020</td>\n",
       "      <td>43.18</td>\n",
       "      <td>2</td>\n",
       "    </tr>\n",
       "    <tr>\n",
       "      <th>1</th>\n",
       "      <td>1000000</td>\n",
       "      <td>2017-11-16 14:11:27</td>\n",
       "      <td>56.020</td>\n",
       "      <td>234.39</td>\n",
       "      <td>3</td>\n",
       "    </tr>\n",
       "    <tr>\n",
       "      <th>2</th>\n",
       "      <td>1000000</td>\n",
       "      <td>2017-11-17 13:21:41</td>\n",
       "      <td>56.020</td>\n",
       "      <td>24.32</td>\n",
       "      <td>1</td>\n",
       "    </tr>\n",
       "    <tr>\n",
       "      <th>3</th>\n",
       "      <td>1000000</td>\n",
       "      <td>2017-11-17 22:08:16</td>\n",
       "      <td>7.005</td>\n",
       "      <td>323.79</td>\n",
       "      <td>5</td>\n",
       "    </tr>\n",
       "    <tr>\n",
       "      <th>4</th>\n",
       "      <td>1000000</td>\n",
       "      <td>2017-11-20 11:51:25</td>\n",
       "      <td>205.010</td>\n",
       "      <td>47.82</td>\n",
       "      <td>2</td>\n",
       "    </tr>\n",
       "  </tbody>\n",
       "</table>\n",
       "</div>"
      ],
      "text/plain": [
       "   card number        receipt date  store.pos  amount  number of items\n",
       "0      1000000 2017-11-14 11:33:51     56.020   43.18                2\n",
       "1      1000000 2017-11-16 14:11:27     56.020  234.39                3\n",
       "2      1000000 2017-11-17 13:21:41     56.020   24.32                1\n",
       "3      1000000 2017-11-17 22:08:16      7.005  323.79                5\n",
       "4      1000000 2017-11-20 11:51:25    205.010   47.82                2"
      ]
     },
     "execution_count": 7,
     "metadata": {},
     "output_type": "execute_result"
    }
   ],
   "source": [
    "df_list=[]\n",
    "for sheet in sheet_names:\n",
    "    df=xcell.parse(sheet)\n",
    "    df_list.append(df)\n",
    "df=pd.concat(df_list)\n",
    "#['Номер карты' 'Дата чека' 'магазин.касса' 'Сумма' 'Кол-во позиций'\n",
    "df.rename(columns={'Номер карты': 'card number' ,'Дата чека' : 'receipt date'\n",
    "                  ,'Сумма':'amount','магазин.касса':'store.pos','Кол-во позиций' :'number of items'}, inplace=True) \n",
    "df.head()"
   ]
  },
  {
   "cell_type": "markdown",
   "metadata": {},
   "source": [
    "#### Day time has an influence on customer buying decision, lets extract the relevant hours which will have an effect in our ML model"
   ]
  },
  {
   "cell_type": "code",
   "execution_count": 8,
   "metadata": {},
   "outputs": [
    {
     "data": {
      "text/html": [
       "<div>\n",
       "<style scoped>\n",
       "    .dataframe tbody tr th:only-of-type {\n",
       "        vertical-align: middle;\n",
       "    }\n",
       "\n",
       "    .dataframe tbody tr th {\n",
       "        vertical-align: top;\n",
       "    }\n",
       "\n",
       "    .dataframe thead th {\n",
       "        text-align: right;\n",
       "    }\n",
       "</style>\n",
       "<table border=\"1\" class=\"dataframe\">\n",
       "  <thead>\n",
       "    <tr style=\"text-align: right;\">\n",
       "      <th></th>\n",
       "      <th>card number</th>\n",
       "      <th>receipt date</th>\n",
       "      <th>store.pos</th>\n",
       "      <th>amount</th>\n",
       "      <th>number of items</th>\n",
       "      <th>store</th>\n",
       "      <th>day_time</th>\n",
       "      <th>hour</th>\n",
       "    </tr>\n",
       "  </thead>\n",
       "  <tbody>\n",
       "    <tr>\n",
       "      <th>0</th>\n",
       "      <td>1000000</td>\n",
       "      <td>2017-11-14 11:33:51</td>\n",
       "      <td>56.020</td>\n",
       "      <td>43.18</td>\n",
       "      <td>2</td>\n",
       "      <td>s56</td>\n",
       "      <td>1</td>\n",
       "      <td>11</td>\n",
       "    </tr>\n",
       "    <tr>\n",
       "      <th>1</th>\n",
       "      <td>1000000</td>\n",
       "      <td>2017-11-16 14:11:27</td>\n",
       "      <td>56.020</td>\n",
       "      <td>234.39</td>\n",
       "      <td>3</td>\n",
       "      <td>s56</td>\n",
       "      <td>1</td>\n",
       "      <td>14</td>\n",
       "    </tr>\n",
       "    <tr>\n",
       "      <th>2</th>\n",
       "      <td>1000000</td>\n",
       "      <td>2017-11-17 13:21:41</td>\n",
       "      <td>56.020</td>\n",
       "      <td>24.32</td>\n",
       "      <td>1</td>\n",
       "      <td>s56</td>\n",
       "      <td>1</td>\n",
       "      <td>13</td>\n",
       "    </tr>\n",
       "    <tr>\n",
       "      <th>3</th>\n",
       "      <td>1000000</td>\n",
       "      <td>2017-11-17 22:08:16</td>\n",
       "      <td>7.005</td>\n",
       "      <td>323.79</td>\n",
       "      <td>5</td>\n",
       "      <td>s7</td>\n",
       "      <td>0</td>\n",
       "      <td>22</td>\n",
       "    </tr>\n",
       "    <tr>\n",
       "      <th>4</th>\n",
       "      <td>1000000</td>\n",
       "      <td>2017-11-20 11:51:25</td>\n",
       "      <td>205.010</td>\n",
       "      <td>47.82</td>\n",
       "      <td>2</td>\n",
       "      <td>s205</td>\n",
       "      <td>1</td>\n",
       "      <td>11</td>\n",
       "    </tr>\n",
       "  </tbody>\n",
       "</table>\n",
       "</div>"
      ],
      "text/plain": [
       "   card number        receipt date  store.pos  amount  number of items store  \\\n",
       "0      1000000 2017-11-14 11:33:51     56.020   43.18                2   s56   \n",
       "1      1000000 2017-11-16 14:11:27     56.020  234.39                3   s56   \n",
       "2      1000000 2017-11-17 13:21:41     56.020   24.32                1   s56   \n",
       "3      1000000 2017-11-17 22:08:16      7.005  323.79                5    s7   \n",
       "4      1000000 2017-11-20 11:51:25    205.010   47.82                2  s205   \n",
       "\n",
       "   day_time  hour  \n",
       "0         1    11  \n",
       "1         1    14  \n",
       "2         1    13  \n",
       "3         0    22  \n",
       "4         1    11  "
      ]
     },
     "execution_count": 8,
     "metadata": {},
     "output_type": "execute_result"
    }
   ],
   "source": [
    "#Adding new features for getting more from the data\n",
    "df['store']=df['store.pos'].apply(lambda x: 's'+str(int(x)))\n",
    "df['day_time'] = df['receipt date'].apply(lambda x : int(f'{x:%H}')<18)\n",
    "df['hour'] = df['receipt date'].apply(lambda x : int(f'{x:%H}'))\n",
    "df['day_time'] = df['day_time'].astype(int)\n",
    "df.head()"
   ]
  },
  {
   "cell_type": "markdown",
   "metadata": {},
   "source": [
    "#### lets see how the hours distributed"
   ]
  },
  {
   "cell_type": "code",
   "execution_count": 9,
   "metadata": {},
   "outputs": [
    {
     "data": {
      "text/plain": [
       "<matplotlib.axes._subplots.AxesSubplot at 0x3fff77fc5940>"
      ]
     },
     "execution_count": 9,
     "metadata": {},
     "output_type": "execute_result"
    },
    {
     "data": {
      "image/png": "[encoded data removed]",
      "text/plain": [
       "<Figure size 432x288 with 1 Axes>"
      ]
     },
     "metadata": {},
     "output_type": "display_data"
    }
   ],
   "source": [
    "sb.distplot(df['hour'])"
   ]
  },
  {
   "cell_type": "code",
   "execution_count": 11,
   "metadata": {},
   "outputs": [
    {
     "name": "stdout",
     "output_type": "stream",
     "text": [
      "['card number' 'receipt date' 'store.pos' 'amount' 'number of items'\n",
      " 'store' 'day_time' 'hour']\n"
     ]
    },
    {
     "data": {
      "text/plain": [
       "<seaborn.axisgrid.PairGrid at 0x3fff73b29668>"
      ]
     },
     "execution_count": 11,
     "metadata": {},
     "output_type": "execute_result"
    },
    {
     "data": {
      "image/png": "[encoded data removed]",
      "text/plain": [
       "<Figure size 440.5x360 with 6 Axes>"
      ]
     },
     "metadata": {},
     "output_type": "display_data"
    }
   ],
   "source": [
    "#pair_plot to see some relations \n",
    "columns=df.columns.values\n",
    "print(columns) \n",
    "sb.pairplot(df,hue=columns[0],vars=columns[3:5] )"
   ]
  },
  {
   "cell_type": "markdown",
   "metadata": {},
   "source": [
    "#### Below bar graph shows what amounts are spent per customer"
   ]
  },
  {
   "cell_type": "code",
   "execution_count": 15,
   "metadata": {},
   "outputs": [
    {
     "data": {
      "text/plain": [
       "<matplotlib.axes._subplots.AxesSubplot at 0x3fff72eb47f0>"
      ]
     },
     "execution_count": 15,
     "metadata": {},
     "output_type": "execute_result"
    },
    {
     "data": {
      "image/png": "[encoded data removed]",
      "text/plain": [
       "<Figure size 864x576 with 1 Axes>"
      ]
     },
     "metadata": {},
     "output_type": "display_data"
    }
   ],
   "source": [
    "plt.figure(figsize=(12,8))   \n",
    "sb.barplot(x='card number',y='amount',  data=df)"
   ]
  },
  {
   "cell_type": "markdown",
   "metadata": {},
   "source": [
    "#### Lets see how the amounts are distributed among stores"
   ]
  },
  {
   "cell_type": "code",
   "execution_count": 282,
   "metadata": {},
   "outputs": [
    {
     "data": {
      "text/plain": [
       "<matplotlib.axes._subplots.AxesSubplot at 0x3fff7221d6d8>"
      ]
     },
     "execution_count": 282,
     "metadata": {},
     "output_type": "execute_result"
    },
    {
     "data": {
      "image/png": "[encoded data removed]",
      "text/plain": [
       "<Figure size 1728x576 with 1 Axes>"
      ]
     },
     "metadata": {},
     "output_type": "display_data"
    }
   ],
   "source": [
    "plt.figure(figsize=(24,8))  \n",
    "sb.barplot(x='store',y='amount', data=df)"
   ]
  },
  {
   "cell_type": "code",
   "execution_count": 283,
   "metadata": {},
   "outputs": [
    {
     "data": {
      "text/plain": [
       "array([1000000,   82148,  205045,  454604,  495519,  501981,  626571,\n",
       "        864963, 1057633, 1125507])"
      ]
     },
     "execution_count": 283,
     "metadata": {},
     "output_type": "execute_result"
    }
   ],
   "source": [
    "df['card number'].unique()"
   ]
  },
  {
   "cell_type": "markdown",
   "metadata": {},
   "source": [
    "#### As we are going to predict store based on features it is simply a classification task. We will use some classification algorithms (logistic regression, svm etc.) to create our models. Firstly, we will separate 20% of our data for testing and train model with the rest. Also we will normalize our features as preprocessing"
   ]
  },
  {
   "cell_type": "markdown",
   "metadata": {},
   "source": [
    "## Preprocessing and ML models"
   ]
  },
  {
   "cell_type": "markdown",
   "metadata": {},
   "source": [
    "### Prediction of store for the first customer"
   ]
  },
  {
   "cell_type": "code",
   "execution_count": 284,
   "metadata": {},
   "outputs": [
    {
     "name": "stdout",
     "output_type": "stream",
     "text": [
      "1000000\n"
     ]
    },
    {
     "data": {
      "text/html": [
       "<div>\n",
       "<style scoped>\n",
       "    .dataframe tbody tr th:only-of-type {\n",
       "        vertical-align: middle;\n",
       "    }\n",
       "\n",
       "    .dataframe tbody tr th {\n",
       "        vertical-align: top;\n",
       "    }\n",
       "\n",
       "    .dataframe thead th {\n",
       "        text-align: right;\n",
       "    }\n",
       "</style>\n",
       "<table border=\"1\" class=\"dataframe\">\n",
       "  <thead>\n",
       "    <tr style=\"text-align: right;\">\n",
       "      <th></th>\n",
       "      <th>card number</th>\n",
       "      <th>receipt date</th>\n",
       "      <th>store.pos</th>\n",
       "      <th>amount</th>\n",
       "      <th>number of items</th>\n",
       "      <th>store</th>\n",
       "      <th>day_time</th>\n",
       "      <th>hour</th>\n",
       "    </tr>\n",
       "  </thead>\n",
       "  <tbody>\n",
       "    <tr>\n",
       "      <th>116</th>\n",
       "      <td>1000000</td>\n",
       "      <td>2018-05-04 10:59:58</td>\n",
       "      <td>56.020</td>\n",
       "      <td>46.43</td>\n",
       "      <td>1</td>\n",
       "      <td>s56</td>\n",
       "      <td>1</td>\n",
       "      <td>10</td>\n",
       "    </tr>\n",
       "    <tr>\n",
       "      <th>117</th>\n",
       "      <td>1000000</td>\n",
       "      <td>2018-05-04 15:05:25</td>\n",
       "      <td>56.020</td>\n",
       "      <td>91.31</td>\n",
       "      <td>2</td>\n",
       "      <td>s56</td>\n",
       "      <td>1</td>\n",
       "      <td>15</td>\n",
       "    </tr>\n",
       "    <tr>\n",
       "      <th>118</th>\n",
       "      <td>1000000</td>\n",
       "      <td>2018-05-09 17:27:21</td>\n",
       "      <td>53.007</td>\n",
       "      <td>2000.00</td>\n",
       "      <td>4</td>\n",
       "      <td>s53</td>\n",
       "      <td>1</td>\n",
       "      <td>17</td>\n",
       "    </tr>\n",
       "    <tr>\n",
       "      <th>119</th>\n",
       "      <td>1000000</td>\n",
       "      <td>2018-05-10 10:41:08</td>\n",
       "      <td>56.016</td>\n",
       "      <td>87.65</td>\n",
       "      <td>2</td>\n",
       "      <td>s56</td>\n",
       "      <td>1</td>\n",
       "      <td>10</td>\n",
       "    </tr>\n",
       "    <tr>\n",
       "      <th>120</th>\n",
       "      <td>1000000</td>\n",
       "      <td>2018-05-11 14:05:33</td>\n",
       "      <td>56.020</td>\n",
       "      <td>75.83</td>\n",
       "      <td>2</td>\n",
       "      <td>s56</td>\n",
       "      <td>1</td>\n",
       "      <td>14</td>\n",
       "    </tr>\n",
       "  </tbody>\n",
       "</table>\n",
       "</div>"
      ],
      "text/plain": [
       "     card number        receipt date  store.pos   amount  number of items  \\\n",
       "116      1000000 2018-05-04 10:59:58     56.020    46.43                1   \n",
       "117      1000000 2018-05-04 15:05:25     56.020    91.31                2   \n",
       "118      1000000 2018-05-09 17:27:21     53.007  2000.00                4   \n",
       "119      1000000 2018-05-10 10:41:08     56.016    87.65                2   \n",
       "120      1000000 2018-05-11 14:05:33     56.020    75.83                2   \n",
       "\n",
       "    store  day_time  hour  \n",
       "116   s56         1    10  \n",
       "117   s56         1    15  \n",
       "118   s53         1    17  \n",
       "119   s56         1    10  \n",
       "120   s56         1    14  "
      ]
     },
     "execution_count": 284,
     "metadata": {},
     "output_type": "execute_result"
    }
   ],
   "source": [
    "first_customer=df['card number'].unique()[0]\n",
    "print(first_customer)\n",
    "first_df=df[df['card number']==first_customer]\n",
    "first_df.tail()"
   ]
  },
  {
   "cell_type": "code",
   "execution_count": 285,
   "metadata": {},
   "outputs": [],
   "source": [
    "from sklearn.preprocessing import StandardScaler\n",
    "Scaler = StandardScaler()"
   ]
  },
  {
   "cell_type": "code",
   "execution_count": 286,
   "metadata": {},
   "outputs": [],
   "source": [
    "X = first_df[['amount', 'number of items', 'hour',  'day_time']]\n",
    "y = first_df['store']"
   ]
  },
  {
   "cell_type": "code",
   "execution_count": 287,
   "metadata": {},
   "outputs": [],
   "source": [
    "from sklearn.model_selection import train_test_split\n",
    "X_train, X_test, y_train, y_test = train_test_split(X, y, test_size=0.20, random_state=42)\n",
    "X_train_sc = Scaler.fit_transform(X_train)\n",
    "X_test_sc = Scaler.fit_transform(X_test)"
   ]
  },
  {
   "cell_type": "code",
   "execution_count": 288,
   "metadata": {},
   "outputs": [
    {
     "data": {
      "text/plain": [
       "0.76"
      ]
     },
     "execution_count": 288,
     "metadata": {},
     "output_type": "execute_result"
    }
   ],
   "source": [
    "#Applying Logistic Regression for classifing\n",
    "from sklearn.linear_model import LogisticRegression\n",
    "lr = LogisticRegression()\n",
    "lr.fit(X_train_sc, y_train)\n",
    "lr.predict(X_test_sc)\n",
    "lr.score(X_test_sc, y_test)"
   ]
  },
  {
   "cell_type": "code",
   "execution_count": 289,
   "metadata": {},
   "outputs": [
    {
     "data": {
      "text/plain": [
       "0.76"
      ]
     },
     "execution_count": 289,
     "metadata": {},
     "output_type": "execute_result"
    }
   ],
   "source": [
    "#Applying SVM for classifing\n",
    "from sklearn import svm\n",
    "svc = svm.SVC()\n",
    "svc.fit(X_train_sc, y_train)\n",
    "svc.predict(X_test_sc)\n",
    "svc.score(X_test_sc, y_test)"
   ]
  },
  {
   "cell_type": "code",
   "execution_count": 290,
   "metadata": {},
   "outputs": [
    {
     "name": "stderr",
     "output_type": "stream",
     "text": [
      "/opt/conda/lib/python3.7/site-packages/sklearn/linear_model/stochastic_gradient.py:128: FutureWarning: max_iter and tol parameters have been added in <class 'sklearn.linear_model.perceptron.Perceptron'> in 0.19. If both are left unset, they default to max_iter=5 and tol=None. If tol is not None, max_iter defaults to max_iter=1000. From 0.21, default max_iter will be 1000, and default tol will be 1e-3.\n",
      "  \"and default tol will be 1e-3.\" % type(self), FutureWarning)\n"
     ]
    },
    {
     "data": {
      "text/plain": [
       "0.72"
      ]
     },
     "execution_count": 290,
     "metadata": {},
     "output_type": "execute_result"
    }
   ],
   "source": [
    "##Applying perceptron for classifing\n",
    "from sklearn.linear_model import Perceptron\n",
    "prc = Perceptron()\n",
    "prc.fit(X_train_sc, y_train) \n",
    "prc.predict(X_test_sc)\n",
    "prc.score(X_test_sc, y_test)"
   ]
  },
  {
   "cell_type": "markdown",
   "metadata": {},
   "source": [
    "#### As we saw our svm and logistic regression models were able to predict rightly with 76% score. It means that 3 out of 4 predictions are correct. I think these predictions are quiet good for a small data."
   ]
  },
  {
   "cell_type": "markdown",
   "metadata": {},
   "source": [
    "#### Because there are not enough data regarding some costomers I will train the models on the whole data "
   ]
  },
  {
   "cell_type": "markdown",
   "metadata": {},
   "source": [
    "### Prediction of store for each customer"
   ]
  },
  {
   "cell_type": "code",
   "execution_count": 291,
   "metadata": {},
   "outputs": [
    {
     "data": {
      "text/html": [
       "<div>\n",
       "<style scoped>\n",
       "    .dataframe tbody tr th:only-of-type {\n",
       "        vertical-align: middle;\n",
       "    }\n",
       "\n",
       "    .dataframe tbody tr th {\n",
       "        vertical-align: top;\n",
       "    }\n",
       "\n",
       "    .dataframe thead th {\n",
       "        text-align: right;\n",
       "    }\n",
       "</style>\n",
       "<table border=\"1\" class=\"dataframe\">\n",
       "  <thead>\n",
       "    <tr style=\"text-align: right;\">\n",
       "      <th></th>\n",
       "      <th>receipt date</th>\n",
       "      <th>store.pos</th>\n",
       "      <th>amount</th>\n",
       "      <th>number of items</th>\n",
       "      <th>store</th>\n",
       "      <th>day_time</th>\n",
       "      <th>hour</th>\n",
       "      <th>card number_205045</th>\n",
       "      <th>card number_454604</th>\n",
       "      <th>card number_495519</th>\n",
       "      <th>card number_501981</th>\n",
       "      <th>card number_626571</th>\n",
       "      <th>card number_864963</th>\n",
       "      <th>card number_1000000</th>\n",
       "      <th>card number_1057633</th>\n",
       "      <th>card number_1125507</th>\n",
       "    </tr>\n",
       "  </thead>\n",
       "  <tbody>\n",
       "    <tr>\n",
       "      <th>0</th>\n",
       "      <td>2017-11-14 11:33:51</td>\n",
       "      <td>56.02</td>\n",
       "      <td>43.18</td>\n",
       "      <td>2</td>\n",
       "      <td>s56</td>\n",
       "      <td>1</td>\n",
       "      <td>11</td>\n",
       "      <td>0</td>\n",
       "      <td>0</td>\n",
       "      <td>0</td>\n",
       "      <td>0</td>\n",
       "      <td>0</td>\n",
       "      <td>0</td>\n",
       "      <td>1</td>\n",
       "      <td>0</td>\n",
       "      <td>0</td>\n",
       "    </tr>\n",
       "    <tr>\n",
       "      <th>1</th>\n",
       "      <td>2017-11-16 14:11:27</td>\n",
       "      <td>56.02</td>\n",
       "      <td>234.39</td>\n",
       "      <td>3</td>\n",
       "      <td>s56</td>\n",
       "      <td>1</td>\n",
       "      <td>14</td>\n",
       "      <td>0</td>\n",
       "      <td>0</td>\n",
       "      <td>0</td>\n",
       "      <td>0</td>\n",
       "      <td>0</td>\n",
       "      <td>0</td>\n",
       "      <td>1</td>\n",
       "      <td>0</td>\n",
       "      <td>0</td>\n",
       "    </tr>\n",
       "    <tr>\n",
       "      <th>2</th>\n",
       "      <td>2017-11-17 13:21:41</td>\n",
       "      <td>56.02</td>\n",
       "      <td>24.32</td>\n",
       "      <td>1</td>\n",
       "      <td>s56</td>\n",
       "      <td>1</td>\n",
       "      <td>13</td>\n",
       "      <td>0</td>\n",
       "      <td>0</td>\n",
       "      <td>0</td>\n",
       "      <td>0</td>\n",
       "      <td>0</td>\n",
       "      <td>0</td>\n",
       "      <td>1</td>\n",
       "      <td>0</td>\n",
       "      <td>0</td>\n",
       "    </tr>\n",
       "  </tbody>\n",
       "</table>\n",
       "</div>"
      ],
      "text/plain": [
       "         receipt date  store.pos  amount  number of items store  day_time  \\\n",
       "0 2017-11-14 11:33:51      56.02   43.18                2   s56         1   \n",
       "1 2017-11-16 14:11:27      56.02  234.39                3   s56         1   \n",
       "2 2017-11-17 13:21:41      56.02   24.32                1   s56         1   \n",
       "\n",
       "   hour  card number_205045  card number_454604  card number_495519  \\\n",
       "0    11                   0                   0                   0   \n",
       "1    14                   0                   0                   0   \n",
       "2    13                   0                   0                   0   \n",
       "\n",
       "   card number_501981  card number_626571  card number_864963  \\\n",
       "0                   0                   0                   0   \n",
       "1                   0                   0                   0   \n",
       "2                   0                   0                   0   \n",
       "\n",
       "   card number_1000000  card number_1057633  card number_1125507  \n",
       "0                    1                    0                    0  \n",
       "1                    1                    0                    0  \n",
       "2                    1                    0                    0  "
      ]
     },
     "execution_count": 291,
     "metadata": {},
     "output_type": "execute_result"
    }
   ],
   "source": [
    "# Converting categorical variable to dummy varaible\n",
    "df_dummy = pd.get_dummies(df,columns=['card number'], drop_first=True)\n",
    "df_dummy.head(3)"
   ]
  },
  {
   "cell_type": "code",
   "execution_count": 292,
   "metadata": {},
   "outputs": [],
   "source": [
    "X_ = df_dummy[['amount', 'number of items','day_time', 'hour', 'card number_205045', 'card number_454604',\n",
    "       'card number_495519', 'card number_501981', 'card number_626571',\n",
    "       'card number_864963', 'card number_1000000', 'card number_1057633',\n",
    "       'card number_1125507']]"
   ]
  },
  {
   "cell_type": "code",
   "execution_count": 293,
   "metadata": {},
   "outputs": [],
   "source": [
    "y_ = df_dummy['store']"
   ]
  },
  {
   "cell_type": "code",
   "execution_count": 294,
   "metadata": {},
   "outputs": [],
   "source": [
    "X_train, X_test, y_train, y_test = train_test_split(X_, y_, test_size=0.20, random_state=42)\n",
    "X_train_sc = Scaler.fit_transform(X_train)\n",
    "X_test_sc = Scaler.fit_transform(X_test)"
   ]
  },
  {
   "cell_type": "code",
   "execution_count": 295,
   "metadata": {},
   "outputs": [
    {
     "data": {
      "text/plain": [
       "0.7037037037037037"
      ]
     },
     "execution_count": 295,
     "metadata": {},
     "output_type": "execute_result"
    }
   ],
   "source": [
    "# Applying logistic regression\n",
    "lr.fit(X_train_sc, y_train)\n",
    "lr.predict(X_test_sc)\n",
    "lr.score(X_test_sc, y_test)"
   ]
  },
  {
   "cell_type": "code",
   "execution_count": 296,
   "metadata": {},
   "outputs": [
    {
     "data": {
      "text/plain": [
       "0.7222222222222222"
      ]
     },
     "execution_count": 296,
     "metadata": {},
     "output_type": "execute_result"
    }
   ],
   "source": [
    "#Applying support vector machine \n",
    "svc.fit(X_train_sc, y_train)\n",
    "svc.predict(X_test_sc)\n",
    "svc.score(X_test_sc, y_test)"
   ]
  },
  {
   "cell_type": "code",
   "execution_count": 297,
   "metadata": {},
   "outputs": [
    {
     "data": {
      "text/plain": [
       "0.6111111111111112"
      ]
     },
     "execution_count": 297,
     "metadata": {},
     "output_type": "execute_result"
    }
   ],
   "source": [
    "#Applying Gradient boosting \n",
    "gbc = GradientBoostingClassifier()\n",
    "gbc.fit(X_train_sc, y_train)\n",
    "gbc.predict(X_test_sc)\n",
    "gbc.score(X_test_sc, y_test)"
   ]
  },
  {
   "cell_type": "code",
   "execution_count": null,
   "metadata": {},
   "outputs": [],
   "source": []
  }
 ],
 "metadata": {
  "kernelspec": {
   "display_name": "Python 3",
   "language": "python",
   "name": "python3"
  },
  "language_info": {
   "codemirror_mode": {
    "name": "ipython",
    "version": 3
   },
   "file_extension": ".py",
   "mimetype": "text/x-python",
   "name": "python",
   "nbconvert_exporter": "python",
   "pygments_lexer": "ipython3",
   "version": "3.7.0"
  }
 },
 "nbformat": 4,
 "nbformat_minor": 2
}
